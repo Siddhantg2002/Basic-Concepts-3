{
  "nbformat": 4,
  "nbformat_minor": 0,
  "metadata": {
    "colab": {
      "provenance": [],
      "authorship_tag": "ABX9TyN5oFfjJ2TFgodj0V7tX3gR",
      "include_colab_link": true
    },
    "kernelspec": {
      "name": "python3",
      "display_name": "Python 3"
    },
    "language_info": {
      "name": "python"
    }
  },
  "cells": [
    {
      "cell_type": "markdown",
      "metadata": {
        "id": "view-in-github",
        "colab_type": "text"
      },
      "source": [
        "<a href=\"https://colab.research.google.com/github/Siddhantg2002/Basic-Concepts-3/blob/main/Preprocessing_Categorical_columns.ipynb\" target=\"_parent\"><img src=\"https://colab.research.google.com/assets/colab-badge.svg\" alt=\"Open In Colab\"/></a>"
      ]
    },
    {
      "cell_type": "code",
      "execution_count": null,
      "metadata": {
        "colab": {
          "base_uri": "https://localhost:8080/",
          "height": 328
        },
        "id": "8C6Tdkdivcdb",
        "outputId": "a131cd71-cab8-4912-efd7-4b92de76c8ec"
      },
      "outputs": [
        {
          "output_type": "execute_result",
          "data": {
            "text/plain": [
              "     MSSubClass MSZoning  LotArea Street LotShape LandContour Utilities  \\\n",
              "Id                                                                        \n",
              "619          20       RL    11694   Pave      Reg         Lvl    AllPub   \n",
              "871          20       RL     6600   Pave      Reg         Lvl    AllPub   \n",
              "93           30       RL    13360   Pave      IR1         HLS    AllPub   \n",
              "818          20       RL    13265   Pave      IR1         Lvl    AllPub   \n",
              "303          20       RL    13704   Pave      IR1         Lvl    AllPub   \n",
              "\n",
              "    LotConfig LandSlope Neighborhood  ... OpenPorchSF EnclosedPorch 3SsnPorch  \\\n",
              "Id                                    ...                                       \n",
              "619    Inside       Gtl      NridgHt  ...         108             0         0   \n",
              "871    Inside       Gtl        NAmes  ...           0             0         0   \n",
              "93     Inside       Gtl      Crawfor  ...           0            44         0   \n",
              "818   CulDSac       Gtl      Mitchel  ...          59             0         0   \n",
              "303    Corner       Gtl      CollgCr  ...          81             0         0   \n",
              "\n",
              "    ScreenPorch  PoolArea  MiscVal  MoSold  YrSold SaleType SaleCondition  \n",
              "Id                                                                         \n",
              "619         260         0        0       7    2007      New       Partial  \n",
              "871           0         0        0       8    2009       WD        Normal  \n",
              "93            0         0        0       8    2009       WD        Normal  \n",
              "818           0         0        0       7    2008       WD        Normal  \n",
              "303           0         0        0       1    2006       WD        Normal  \n",
              "\n",
              "[5 rows x 60 columns]"
            ],
            "text/html": [
              "\n",
              "  <div id=\"df-72366dfc-8701-4598-a479-bb5456773569\">\n",
              "    <div class=\"colab-df-container\">\n",
              "      <div>\n",
              "<style scoped>\n",
              "    .dataframe tbody tr th:only-of-type {\n",
              "        vertical-align: middle;\n",
              "    }\n",
              "\n",
              "    .dataframe tbody tr th {\n",
              "        vertical-align: top;\n",
              "    }\n",
              "\n",
              "    .dataframe thead th {\n",
              "        text-align: right;\n",
              "    }\n",
              "</style>\n",
              "<table border=\"1\" class=\"dataframe\">\n",
              "  <thead>\n",
              "    <tr style=\"text-align: right;\">\n",
              "      <th></th>\n",
              "      <th>MSSubClass</th>\n",
              "      <th>MSZoning</th>\n",
              "      <th>LotArea</th>\n",
              "      <th>Street</th>\n",
              "      <th>LotShape</th>\n",
              "      <th>LandContour</th>\n",
              "      <th>Utilities</th>\n",
              "      <th>LotConfig</th>\n",
              "      <th>LandSlope</th>\n",
              "      <th>Neighborhood</th>\n",
              "      <th>...</th>\n",
              "      <th>OpenPorchSF</th>\n",
              "      <th>EnclosedPorch</th>\n",
              "      <th>3SsnPorch</th>\n",
              "      <th>ScreenPorch</th>\n",
              "      <th>PoolArea</th>\n",
              "      <th>MiscVal</th>\n",
              "      <th>MoSold</th>\n",
              "      <th>YrSold</th>\n",
              "      <th>SaleType</th>\n",
              "      <th>SaleCondition</th>\n",
              "    </tr>\n",
              "    <tr>\n",
              "      <th>Id</th>\n",
              "      <th></th>\n",
              "      <th></th>\n",
              "      <th></th>\n",
              "      <th></th>\n",
              "      <th></th>\n",
              "      <th></th>\n",
              "      <th></th>\n",
              "      <th></th>\n",
              "      <th></th>\n",
              "      <th></th>\n",
              "      <th></th>\n",
              "      <th></th>\n",
              "      <th></th>\n",
              "      <th></th>\n",
              "      <th></th>\n",
              "      <th></th>\n",
              "      <th></th>\n",
              "      <th></th>\n",
              "      <th></th>\n",
              "      <th></th>\n",
              "      <th></th>\n",
              "    </tr>\n",
              "  </thead>\n",
              "  <tbody>\n",
              "    <tr>\n",
              "      <th>619</th>\n",
              "      <td>20</td>\n",
              "      <td>RL</td>\n",
              "      <td>11694</td>\n",
              "      <td>Pave</td>\n",
              "      <td>Reg</td>\n",
              "      <td>Lvl</td>\n",
              "      <td>AllPub</td>\n",
              "      <td>Inside</td>\n",
              "      <td>Gtl</td>\n",
              "      <td>NridgHt</td>\n",
              "      <td>...</td>\n",
              "      <td>108</td>\n",
              "      <td>0</td>\n",
              "      <td>0</td>\n",
              "      <td>260</td>\n",
              "      <td>0</td>\n",
              "      <td>0</td>\n",
              "      <td>7</td>\n",
              "      <td>2007</td>\n",
              "      <td>New</td>\n",
              "      <td>Partial</td>\n",
              "    </tr>\n",
              "    <tr>\n",
              "      <th>871</th>\n",
              "      <td>20</td>\n",
              "      <td>RL</td>\n",
              "      <td>6600</td>\n",
              "      <td>Pave</td>\n",
              "      <td>Reg</td>\n",
              "      <td>Lvl</td>\n",
              "      <td>AllPub</td>\n",
              "      <td>Inside</td>\n",
              "      <td>Gtl</td>\n",
              "      <td>NAmes</td>\n",
              "      <td>...</td>\n",
              "      <td>0</td>\n",
              "      <td>0</td>\n",
              "      <td>0</td>\n",
              "      <td>0</td>\n",
              "      <td>0</td>\n",
              "      <td>0</td>\n",
              "      <td>8</td>\n",
              "      <td>2009</td>\n",
              "      <td>WD</td>\n",
              "      <td>Normal</td>\n",
              "    </tr>\n",
              "    <tr>\n",
              "      <th>93</th>\n",
              "      <td>30</td>\n",
              "      <td>RL</td>\n",
              "      <td>13360</td>\n",
              "      <td>Pave</td>\n",
              "      <td>IR1</td>\n",
              "      <td>HLS</td>\n",
              "      <td>AllPub</td>\n",
              "      <td>Inside</td>\n",
              "      <td>Gtl</td>\n",
              "      <td>Crawfor</td>\n",
              "      <td>...</td>\n",
              "      <td>0</td>\n",
              "      <td>44</td>\n",
              "      <td>0</td>\n",
              "      <td>0</td>\n",
              "      <td>0</td>\n",
              "      <td>0</td>\n",
              "      <td>8</td>\n",
              "      <td>2009</td>\n",
              "      <td>WD</td>\n",
              "      <td>Normal</td>\n",
              "    </tr>\n",
              "    <tr>\n",
              "      <th>818</th>\n",
              "      <td>20</td>\n",
              "      <td>RL</td>\n",
              "      <td>13265</td>\n",
              "      <td>Pave</td>\n",
              "      <td>IR1</td>\n",
              "      <td>Lvl</td>\n",
              "      <td>AllPub</td>\n",
              "      <td>CulDSac</td>\n",
              "      <td>Gtl</td>\n",
              "      <td>Mitchel</td>\n",
              "      <td>...</td>\n",
              "      <td>59</td>\n",
              "      <td>0</td>\n",
              "      <td>0</td>\n",
              "      <td>0</td>\n",
              "      <td>0</td>\n",
              "      <td>0</td>\n",
              "      <td>7</td>\n",
              "      <td>2008</td>\n",
              "      <td>WD</td>\n",
              "      <td>Normal</td>\n",
              "    </tr>\n",
              "    <tr>\n",
              "      <th>303</th>\n",
              "      <td>20</td>\n",
              "      <td>RL</td>\n",
              "      <td>13704</td>\n",
              "      <td>Pave</td>\n",
              "      <td>IR1</td>\n",
              "      <td>Lvl</td>\n",
              "      <td>AllPub</td>\n",
              "      <td>Corner</td>\n",
              "      <td>Gtl</td>\n",
              "      <td>CollgCr</td>\n",
              "      <td>...</td>\n",
              "      <td>81</td>\n",
              "      <td>0</td>\n",
              "      <td>0</td>\n",
              "      <td>0</td>\n",
              "      <td>0</td>\n",
              "      <td>0</td>\n",
              "      <td>1</td>\n",
              "      <td>2006</td>\n",
              "      <td>WD</td>\n",
              "      <td>Normal</td>\n",
              "    </tr>\n",
              "  </tbody>\n",
              "</table>\n",
              "<p>5 rows × 60 columns</p>\n",
              "</div>\n",
              "      <button class=\"colab-df-convert\" onclick=\"convertToInteractive('df-72366dfc-8701-4598-a479-bb5456773569')\"\n",
              "              title=\"Convert this dataframe to an interactive table.\"\n",
              "              style=\"display:none;\">\n",
              "        \n",
              "  <svg xmlns=\"http://www.w3.org/2000/svg\" height=\"24px\"viewBox=\"0 0 24 24\"\n",
              "       width=\"24px\">\n",
              "    <path d=\"M0 0h24v24H0V0z\" fill=\"none\"/>\n",
              "    <path d=\"M18.56 5.44l.94 2.06.94-2.06 2.06-.94-2.06-.94-.94-2.06-.94 2.06-2.06.94zm-11 1L8.5 8.5l.94-2.06 2.06-.94-2.06-.94L8.5 2.5l-.94 2.06-2.06.94zm10 10l.94 2.06.94-2.06 2.06-.94-2.06-.94-.94-2.06-.94 2.06-2.06.94z\"/><path d=\"M17.41 7.96l-1.37-1.37c-.4-.4-.92-.59-1.43-.59-.52 0-1.04.2-1.43.59L10.3 9.45l-7.72 7.72c-.78.78-.78 2.05 0 2.83L4 21.41c.39.39.9.59 1.41.59.51 0 1.02-.2 1.41-.59l7.78-7.78 2.81-2.81c.8-.78.8-2.07 0-2.86zM5.41 20L4 18.59l7.72-7.72 1.47 1.35L5.41 20z\"/>\n",
              "  </svg>\n",
              "      </button>\n",
              "      \n",
              "  <style>\n",
              "    .colab-df-container {\n",
              "      display:flex;\n",
              "      flex-wrap:wrap;\n",
              "      gap: 12px;\n",
              "    }\n",
              "\n",
              "    .colab-df-convert {\n",
              "      background-color: #E8F0FE;\n",
              "      border: none;\n",
              "      border-radius: 50%;\n",
              "      cursor: pointer;\n",
              "      display: none;\n",
              "      fill: #1967D2;\n",
              "      height: 32px;\n",
              "      padding: 0 0 0 0;\n",
              "      width: 32px;\n",
              "    }\n",
              "\n",
              "    .colab-df-convert:hover {\n",
              "      background-color: #E2EBFA;\n",
              "      box-shadow: 0px 1px 2px rgba(60, 64, 67, 0.3), 0px 1px 3px 1px rgba(60, 64, 67, 0.15);\n",
              "      fill: #174EA6;\n",
              "    }\n",
              "\n",
              "    [theme=dark] .colab-df-convert {\n",
              "      background-color: #3B4455;\n",
              "      fill: #D2E3FC;\n",
              "    }\n",
              "\n",
              "    [theme=dark] .colab-df-convert:hover {\n",
              "      background-color: #434B5C;\n",
              "      box-shadow: 0px 1px 3px 1px rgba(0, 0, 0, 0.15);\n",
              "      filter: drop-shadow(0px 1px 2px rgba(0, 0, 0, 0.3));\n",
              "      fill: #FFFFFF;\n",
              "    }\n",
              "  </style>\n",
              "\n",
              "      <script>\n",
              "        const buttonEl =\n",
              "          document.querySelector('#df-72366dfc-8701-4598-a479-bb5456773569 button.colab-df-convert');\n",
              "        buttonEl.style.display =\n",
              "          google.colab.kernel.accessAllowed ? 'block' : 'none';\n",
              "\n",
              "        async function convertToInteractive(key) {\n",
              "          const element = document.querySelector('#df-72366dfc-8701-4598-a479-bb5456773569');\n",
              "          const dataTable =\n",
              "            await google.colab.kernel.invokeFunction('convertToInteractive',\n",
              "                                                     [key], {});\n",
              "          if (!dataTable) return;\n",
              "\n",
              "          const docLinkHtml = 'Like what you see? Visit the ' +\n",
              "            '<a target=\"_blank\" href=https://colab.research.google.com/notebooks/data_table.ipynb>data table notebook</a>'\n",
              "            + ' to learn more about interactive tables.';\n",
              "          element.innerHTML = '';\n",
              "          dataTable['output_type'] = 'display_data';\n",
              "          await google.colab.output.renderOutput(dataTable, element);\n",
              "          const docLink = document.createElement('div');\n",
              "          docLink.innerHTML = docLinkHtml;\n",
              "          element.appendChild(docLink);\n",
              "        }\n",
              "      </script>\n",
              "    </div>\n",
              "  </div>\n",
              "  "
            ]
          },
          "metadata": {},
          "execution_count": 2
        }
      ],
      "source": [
        "import pandas as pd\n",
        "from sklearn.model_selection import train_test_split\n",
        "x_train_full= pd.read_csv('train.csv',index_col='Id')\n",
        "x_test_full=pd.read_csv('test.csv',index_col='Id')\n",
        "\n",
        "x_train_full.dropna(axis=0, subset=['SalePrice'], inplace=True)\n",
        "y = x_train_full.SalePrice\n",
        "x_train_full.drop(['SalePrice'], axis=1, inplace=True)\n",
        " \n",
        "#Here we first dropping the columns then splitting the data set whereas above we first spitted the dataset then dropped the columns\n",
        "cols_with_missing = [col for col in x_train_full.columns if x_train_full[col].isnull().any()] \n",
        "x_train_full.drop(cols_with_missing, axis=1, inplace=True)\n",
        "x_test_full.drop(cols_with_missing, axis=1, inplace=True)\n",
        "\n",
        "x_train, x_valid, y_train, y_valid = train_test_split(x_train_full,y,train_size=0.8, test_size=0.2,random_state=0)\n",
        "x_train.head()"
      ]
    },
    {
      "cell_type": "code",
      "source": [
        "#Function to compare diffrent approaches\n",
        "from sklearn.ensemble import RandomForestRegressor\n",
        "from sklearn.metrics import mean_absolute_error\n",
        "def accuracy_score(x_train,x_val,y_train,y_val):\n",
        "    model=RandomForestRegressor(n_estimators=500,random_state=0)\n",
        "    model.fit(x_train,y_train)\n",
        "    pred=model.predict(x_val)\n",
        "    return mean_absolute_error(y_val,pred)"
      ],
      "metadata": {
        "id": "tYrQ74VQvgPm"
      },
      "execution_count": null,
      "outputs": []
    },
    {
      "cell_type": "code",
      "source": [
        "#DROPPING THE CATEGORICAL DATA COLUMNS\n",
        "drop_x_train=x_train.select_dtypes(exclude=['object'])\n",
        "drop_x_valid=x_valid.select_dtypes(exclude=['object'])\n",
        "print(\"MAE from Approach 1 (Drop categorical variables):\")\n",
        "print(accuracy_score(drop_x_train, drop_x_valid, y_train, y_valid))"
      ],
      "metadata": {
        "colab": {
          "base_uri": "https://localhost:8080/"
        },
        "id": "yOBNB9IWvlEu",
        "outputId": "375dfd41-72ac-4138-fd62-35aa402f4328"
      },
      "execution_count": null,
      "outputs": [
        {
          "output_type": "stream",
          "name": "stdout",
          "text": [
            "MAE from Approach 1 (Drop categorical variables):\n",
            "17466.586351598173\n"
          ]
        }
      ]
    },
    {
      "cell_type": "markdown",
      "source": [
        "#ORDINAL CODING\n"
      ],
      "metadata": {
        "id": "iHMDRGRu1PFI"
      }
    },
    {
      "cell_type": "code",
      "source": [
        "\n",
        "# Categorical columns in the training data\n",
        "object_cols= [col for col in x_train.columns if x_train[col].dtype=='object']\n",
        "\n",
        "# Columns that can be safely ordinal encoded\n",
        "safely_ordinated_cols=[col for col in object_cols if set(x_valid[col]).issubset(set(x_train[col]))]\n",
        "\n",
        "# Problematic columns that will be dropped from the dataset\n",
        "Problematic_cols=list(set(object_cols)-set(safely_ordinated_cols))\n",
        "\n",
        "print('Categorical columns that will be ordinal encoded:', safely_ordinated_cols)\n",
        "print('\\nCategorical columns that will be dropped from the dataset:', Problematic_cols)"
      ],
      "metadata": {
        "colab": {
          "base_uri": "https://localhost:8080/"
        },
        "id": "UIg-hcDjzCrH",
        "outputId": "b0d831c7-2664-41b0-a47d-1c9e1412f887"
      },
      "execution_count": null,
      "outputs": [
        {
          "output_type": "stream",
          "name": "stdout",
          "text": [
            "Categorical columns that will be ordinal encoded: ['MSZoning', 'Street', 'LotShape', 'LandContour', 'Utilities', 'LotConfig', 'LandSlope', 'Neighborhood', 'Condition1', 'BldgType', 'HouseStyle', 'RoofStyle', 'Exterior1st', 'Exterior2nd', 'ExterQual', 'ExterCond', 'Foundation', 'Heating', 'HeatingQC', 'CentralAir', 'KitchenQual', 'PavedDrive', 'SaleType', 'SaleCondition']\n",
            "\n",
            "Categorical columns that will be dropped from the dataset: ['Condition2', 'RoofMatl', 'Functional']\n"
          ]
        }
      ]
    },
    {
      "cell_type": "code",
      "source": [
        "from sklearn.preprocessing import OrdinalEncoder\n",
        "# Dropping categorical columns that will not be encoded\n",
        "label_x_train=x_train.drop(Problematic_cols,axis=1)\n",
        "label_x_valid=x_valid.drop(Problematic_cols,axis=1)\n",
        "\n",
        "ordinal_encoder=OrdinalEncoder()\n",
        "label_x_train[safely_ordinated_cols]=ordinal_encoder.fit_transform(x_train[safely_ordinated_cols])\n",
        "label_x_valid[safely_ordinated_cols]=ordinal_encoder.transform(x_valid[safely_ordinated_cols])\n",
        "print(\"MAE from Approach 2 (Ordinal Encoding):\") \n",
        "print(accuracy_score(label_x_train, label_x_valid, y_train, y_valid))"
      ],
      "metadata": {
        "colab": {
          "base_uri": "https://localhost:8080/"
        },
        "id": "zkAkyboz1GjE",
        "outputId": "3a151277-2b3f-4936-a750-527a4561c346"
      },
      "execution_count": null,
      "outputs": [
        {
          "output_type": "stream",
          "name": "stdout",
          "text": [
            "MAE from Approach 2 (Ordinal Encoding):\n",
            "16787.371783105023\n"
          ]
        }
      ]
    },
    {
      "cell_type": "markdown",
      "source": [
        "# ONE HOT CODE ENCODING"
      ],
      "metadata": {
        "id": "CdcfDNll8Z-l"
      }
    },
    {
      "cell_type": "code",
      "source": [
        "#Checking cardinality\n",
        "# Get number of unique entries in each column with categorical data\n",
        "object_nunique = list(map(lambda col: x_train[col].nunique(), object_cols))\n",
        "d = dict(zip(object_cols, object_nunique))\n",
        "\n",
        "# Print number of unique entries by column, in ascending order\n",
        "sorted(d.items(), key=lambda x: x[1])"
      ],
      "metadata": {
        "colab": {
          "base_uri": "https://localhost:8080/"
        },
        "id": "Q2Fkn5Sz8jT_",
        "outputId": "18868b5c-b2c7-433c-94b9-53f9f977dea5"
      },
      "execution_count": null,
      "outputs": [
        {
          "output_type": "execute_result",
          "data": {
            "text/plain": [
              "[('Street', 2),\n",
              " ('Utilities', 2),\n",
              " ('CentralAir', 2),\n",
              " ('LandSlope', 3),\n",
              " ('PavedDrive', 3),\n",
              " ('LotShape', 4),\n",
              " ('LandContour', 4),\n",
              " ('ExterQual', 4),\n",
              " ('KitchenQual', 4),\n",
              " ('MSZoning', 5),\n",
              " ('LotConfig', 5),\n",
              " ('BldgType', 5),\n",
              " ('ExterCond', 5),\n",
              " ('HeatingQC', 5),\n",
              " ('Condition2', 6),\n",
              " ('RoofStyle', 6),\n",
              " ('Foundation', 6),\n",
              " ('Heating', 6),\n",
              " ('Functional', 6),\n",
              " ('SaleCondition', 6),\n",
              " ('RoofMatl', 7),\n",
              " ('HouseStyle', 8),\n",
              " ('Condition1', 9),\n",
              " ('SaleType', 9),\n",
              " ('Exterior1st', 15),\n",
              " ('Exterior2nd', 16),\n",
              " ('Neighborhood', 25)]"
            ]
          },
          "metadata": {},
          "execution_count": 7
        }
      ]
    },
    {
      "cell_type": "code",
      "source": [
        "#We will only encode those columns whose cardinality is less or equal to 15 else will be ignored.\n",
        "low_cardinality_cols=[col for col in object_cols if x_train[col].nunique()<=15]\n",
        "high_cardinality_cols = list(set(object_cols)-set(low_cardinality_cols))\n",
        "print('Categorical columns that will be one-hot encoded:', low_cardinality_cols)\n",
        "print('\\nCategorical columns that will be dropped from the dataset:', high_cardinality_cols)"
      ],
      "metadata": {
        "colab": {
          "base_uri": "https://localhost:8080/"
        },
        "id": "DI6MOdmo_vil",
        "outputId": "6da07762-d614-495c-dffb-d7b67b17b5b1"
      },
      "execution_count": null,
      "outputs": [
        {
          "output_type": "stream",
          "name": "stdout",
          "text": [
            "Categorical columns that will be one-hot encoded: ['MSZoning', 'Street', 'LotShape', 'LandContour', 'Utilities', 'LotConfig', 'LandSlope', 'Condition1', 'Condition2', 'BldgType', 'HouseStyle', 'RoofStyle', 'RoofMatl', 'Exterior1st', 'ExterQual', 'ExterCond', 'Foundation', 'Heating', 'HeatingQC', 'CentralAir', 'KitchenQual', 'Functional', 'PavedDrive', 'SaleType', 'SaleCondition']\n",
            "\n",
            "Categorical columns that will be dropped from the dataset: ['Neighborhood', 'Exterior2nd']\n"
          ]
        }
      ]
    },
    {
      "cell_type": "code",
      "source": [
        "from sklearn.preprocessing import OneHotEncoder\n",
        "\n",
        "# Apply one-hot encoder to each column with categorical data\n",
        "OH_encoder = OneHotEncoder(handle_unknown='ignore', sparse=False)\n",
        "OH_cols_train = pd.DataFrame(OH_encoder.fit_transform(x_train[low_cardinality_cols]))\n",
        "OH_cols_valid = pd.DataFrame(OH_encoder.transform(x_valid[low_cardinality_cols]))\n",
        "\n",
        "# One-hot encoding removed index; put it back\n",
        "OH_cols_train.index = x_train.index\n",
        "OH_cols_valid.index = x_valid.index\n",
        "\n",
        "# Remove categorical columns (will replace with one-hot encoding)\n",
        "num_x_train = x_train.drop(object_cols, axis=1)\n",
        "num_x_valid = x_valid.drop(object_cols, axis=1)\n",
        "\n",
        "# Add one-hot encoded columns to numerical features\n",
        "OH_X_train = pd.concat([num_x_train, OH_cols_train], axis=1)\n",
        "OH_X_valid = pd.concat([num_x_valid, OH_cols_valid], axis=1)\n"
      ],
      "metadata": {
        "colab": {
          "base_uri": "https://localhost:8080/"
        },
        "id": "X3nVpRTOAnpO",
        "outputId": "ef7f8eb2-390f-46d9-addc-bc28ce50d5f9"
      },
      "execution_count": null,
      "outputs": [
        {
          "output_type": "stream",
          "name": "stderr",
          "text": [
            "/usr/local/lib/python3.9/dist-packages/sklearn/preprocessing/_encoders.py:868: FutureWarning: `sparse` was renamed to `sparse_output` in version 1.2 and will be removed in 1.4. `sparse_output` is ignored unless you leave `sparse` to its default value.\n",
            "  warnings.warn(\n"
          ]
        }
      ]
    }
  ]
}